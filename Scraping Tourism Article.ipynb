{
  "nbformat": 4,
  "nbformat_minor": 0,
  "metadata": {
    "language_info": {
      "codemirror_mode": {
        "name": "ipython",
        "version": 3
      },
      "file_extension": ".py",
      "mimetype": "text/x-python",
      "name": "python",
      "nbconvert_exporter": "python",
      "pygments_lexer": "ipython3",
      "version": "3.7.4-final"
    },
    "orig_nbformat": 2,
    "kernelspec": {
      "name": "python37464bitanaconda3virtualenvfc801a8c42d14f0d884d7f22cd4e486a",
      "display_name": "Python 3.7.4 64-bit ('anaconda3': virtualenv)"
    },
    "colab": {
      "name": "Scraping Artikel Wisata.ipynb",
      "provenance": [],
      "collapsed_sections": []
    }
  },
  "cells": [
    {
      "cell_type": "code",
      "metadata": {
        "id": "qAYc-tBAYYA7"
      },
      "source": [
        "pip install newspaper3k"
      ],
      "execution_count": null,
      "outputs": []
    },
    {
      "cell_type": "code",
      "metadata": {
        "id": "HREHGLoLYYA_",
        "colab": {
          "base_uri": "https://localhost:8080/"
        },
        "outputId": "712f4078-4a48-44da-81be-b319f8e3537d"
      },
      "source": [
        "import newspaper\n",
        "from newspaper import Article\n",
        "import nltk\n",
        "nltk.download('punkt')\n",
        "import csv\n"
      ],
      "execution_count": null,
      "outputs": [
        {
          "output_type": "stream",
          "text": [
            "[nltk_data] Downloading package punkt to /root/nltk_data...\n",
            "[nltk_data]   Unzipping tokenizers/punkt.zip.\n"
          ],
          "name": "stdout"
        }
      ]
    },
    {
      "cell_type": "code",
      "metadata": {
        "id": "T1szhoVBYYBB"
      },
      "source": [
        "url = \"https://www.touropia.com/castles-in-england/\""
      ],
      "execution_count": null,
      "outputs": []
    },
    {
      "cell_type": "code",
      "metadata": {
        "id": "RN07mHbvYYBD"
      },
      "source": [
        "article = Article(url)\n",
        "article.download()\n",
        "article.parse()\n",
        " \n",
        "with open (\"articles.txt\", \"a+\") as f:\n",
        "   txt = article.text\n",
        "   f.write(txt)\n",
        "   f.close()"
      ],
      "execution_count": null,
      "outputs": []
    },
    {
      "cell_type": "code",
      "metadata": {
        "id": "nmBYK5IS8Ihx",
        "colab": {
          "base_uri": "https://localhost:8080/",
          "height": 188
        },
        "outputId": "7b6cf316-2ee1-4f87-f8ae-185a7bfa1212"
      },
      "source": [
        "article.text"
      ],
      "execution_count": null,
      "outputs": [
        {
          "output_type": "execute_result",
          "data": {
            "application/vnd.google.colaboratory.intrinsic+json": {
              "type": "string"
            },
            "text/plain": [
              "'Built to keep enemies out while protecting the safety and comfort of those within, England‘s castles have long captured the imagination of travelers from around the world. Castles first appeared in Britain during the 11th century during the Norman Conquest and continued to be constructed well into the 18th century, although the later castles were built more for show than for fortification. Today, there are hundreds of castles in England in various stages of restoration or states of decay. Many have become popular tourist destinations, offering visitors the chance to see how life in a real castle compares with storybook tales of towers, turrets and untold treasure.\\n\\n10. Corfe Castle\\n\\nflickr/davidbunting\\n\\nThe ruins of Corfe Castle rest on a hill near a quaint village of the same name in the southern county of Dorset. Built in the 11th and 12th century, the castle was designed to intimidate would-be attackers with a limestone keep that stood 20 meters (70 feet) tall. The castle was famously defended for three years during the English Civil War by Lady Bankes. During the final attack, Lady Bankes rained hot coals down at Parliamentary soldiers from her personal chambers. Like many of the fortified castles in England, the inner keep of Corfe Castle was then slighted, or dismantled, by its captors so that it could not be used by Royalist forces. Arrow slits and murder holes are still visible in the castle ruins today.\\n\\n9. Alnwick Castle\\n\\nflickr/Matthew_Hartley\\n\\nThe seat of the Duke of Northumberland, Alnwick is the second largest inhabited castle in England after Windsor Castle, the Queen’s favorite weekend home. Built during the 11th century, Alnwick Castle has been home to the Percy family for the last 700 years. Although the present Duke and Duchess still live in a section of the castle, the rest is open to the public seven months out of the year. Alnwick Castle has been revamped, renovated and refurbished many times over the last seven centuries. The castle’s rooms serve as rich backdrop for one of the finest collections of paintings in England, including works by Titian, Reynolds and Gainsborough. The exterior of the castle has been featured in several films and served as exterior shots for the Hogwarts school in the Harry Potter movies.\\n\\n8. Framlingham Castle\\n\\nflickr/Squeezyboy\\n\\nLocated in the east of England in Suffolk, Framlingham castle is a perfect example of the classic “motte and bailey” fortifications of the 11th and 12th century. Bailey is the term for the protective outer wall of the castle; motte refers to the hill or raised earthwork upon which the castle is constructed. Today, the stockade and 13 towers attract visitors who come to walk along the top of the castle wall.\\n\\nFramlingham played an important historical role during the Tudor Period when the Howard family owned the castle. Henry VIII seized the estate, Queen Mary returned it and Elizabeth I took it back again. After her death, the castle was once again returned to the Howards. The castle was donated to Pembroke College in 1636, and the inner buildings were tore down to build a poorhouse. Visitors can explore the castle’s history at the “From Powerhouse to Poorhouse” exhibition and can view the Howard family tombs at the nearby Saint Michael Church.\\n\\n7. Leeds Castle\\n\\nflickr/Sugarmonster\\n\\nLarge, grand, intact and surrounded by a wide moat, Leeds Castle is what many people imagine when they think of an English castle. Located in Kent in the southeast corner of England, the castle was constructed during the reign of Henry I and served as residence for royalty for much of its more than 900-year-long history. Six queens called Leeds home, earning the castle the nickname “The Ladies Castle.” The castle’s last private owner was a woman as well. Olive Wilson Filmer, Lady Baillie, inherited the estate in the early 1900s and established the foundation that has run the castle as a tourist destination since her death in 1974.\\n\\nFrom its lavish palace to its lush grounds, the vast 500-acre estate has more attractions than can be experienced in a single visit. The moat that surrounds the castle is actually a lake fed by the River Len, and punting on the water is a favorite activity. The castle grounds boast an elaborate yew maze as well as a turf maze designed for young children.\\n\\n6. Arundel Castle\\n\\nflickr/montpelier\\n\\nThe seat of the Duke of Norfolk, Arundel Castle is located in West Sussex in the south of England. One of the best of the continually inhabited castles in England, Arundel Castle features a well-preserved interior filled with rare paintings, tapestries and furnishings. The castle’s oldest feature is its motte, the earthwork mound that lifts the castle 30 meters (100 feet) high from the now-dry moat below.\\n\\nArundel Castle has remained the residence of the Dukes of Norfolk and their ancestors for more than 850 years. Nearly destroyed during the English Civil War of the 17th century, the structure underwent many renovations over the centuries, and in the 19th century, the 15th Duke of Norfolk completed a long restoration project. Today, the estate’s 14th-century chapel, its exquisite gardens and many of the castle’s breathtaking rooms are open to the public.\\n\\n5. Bamburgh Castle\\n\\nflickr/DancesWithLight\\n\\nSituated on the shore of England’s northeast county of Northumberland, Bamburgh Castle stands on an outcrop of volcanic stone along the coastline. With origins that date back as far as the 3rd or 4th century, Bamburgh Castle may have been the capital of the kingdom ruled by the native Britons known as Din Guarie. The core of present castle was built by the Normans in the 11th century, and it’s believed that Henry II ordered the construction of the castle keep.\\n\\nIn 1894, the Victorian industrialist William Armstrong purchased the castle and restored it. It remains the Armstrong family home today, but 16 rooms are open to visitors. Some rooms have been converted into exhibit halls for artifacts like Medieval armor, including the famous 7th-century Bamburgh Sword excavated from the site during an archaeological dig.\\n\\n4. Tower of London\\n\\nConstruction for the Tower of London began in 1066 on the north bank of the River Thames. Although built as a fortified castle and royal residence, it was mostly used as a prison from 1100 to 1952. Many famous figures of English history were imprisoned within its walls, including royals like Richard II, Henry VI, Edward V and Elizabeth I. Two of Henry VIII’s six wives were beheaded on the Tower Green.\\n\\nAlthough the castle’s official name is Her Majesty’s Royal Palace and Fortress, the royal family has not used the Tower as residence since the Tudor period. The castle has been a popular tourist destination since that time, attracting visitors who come to see the castle’s menagerie, its amazing displays of armory and the nation’s Crown Jewels. Yeoman Warder tours led by knowledgeable, friendly and chatty “Beefeaters” are the highlight of a visit to the Tower of London.\\n\\n3. Warwick Castle\\n\\nWarwick Castle was built by William the Conqueror in 1068 on a bend of the River Avon. Since its construction in the 11th century, the castle has undergone structural changes with additions of towers and redesigned residential buildings. Originally a wooden structure, it was rebuilt in stone in the 12th century. During the Hundred Years War, the facade opposite the town was refortified, resulting in one of the most recognizable examples of 14th century military architecture. It was used as a stronghold until the early 17th century, when it was granted to Sir Fulke Greville, who converted it to a country house. It was owned by the Greville family until 1978 when it was bought by a leisure company.\\n\\n2. Bodiam Castle\\n\\nflickr/iansblog\\n\\nLocated to the southeast of London in East Sussex, Bodiam Castle is considered one of the best examples of a Medieval fortress, despite the fact that the 14th century structure was built more for status than for strength. After the conclusion of the 100 Years’ War, Richard II granted veteran soldier and landowner Sir Edward Dalyngigge a license to fortify his home as a measure of protection against French invasion.\\n\\nLooking like something out of a fairytale, Bodiam has all the attributes that people expect when visiting a Medieval castle, from its soaring towers and battlements to its forbidding portcullis and moat. The interior of the castle lies in ruin, however. It was dismantled during the English Civil War in the 1600s to prevent the castle from being used by the enemy. In 1829, art philanthropist John Fuller purchased the castle for 3,000 guineas to save it from demolition.\\n\\n1. Windsor Castle\\n\\nLocated about an hour west of London, Windsor Castle is often called the largest and oldest inhabited castle in the world. It is one of the official residences of Queen Elizabeth II who spends many weekends of the year at the castle, using it for both state and private entertaining. The earliest surviving buildings at Windsor date from the reign of Henry II who came to the throne in 1154. Originally designed to protect Norman dominance around the outskirts of London, Windsor Castle was built as a motte and bailey castle, with three wards surrounding a central mound. Gradually replaced with stone fortifications, the castle withstood a prolonged siege during the First Barons’ War at the start of the 13th century. During the Tudor period, Henry VIII and Elizabeth I made increasing use of the castle as a royal court and center for diplomatic entertainment. Today, much of the castle, including the magnificent State Apartments and St Georges Chapel can be visited.'"
            ]
          },
          "metadata": {
            "tags": []
          },
          "execution_count": 46
        }
      ]
    },
    {
      "cell_type": "code",
      "metadata": {
        "id": "pDlulEDuO9gC"
      },
      "source": [
        "file = open('articles.txt','r')\n",
        "articles = file.read()\n",
        "file.close()"
      ],
      "execution_count": null,
      "outputs": []
    },
    {
      "cell_type": "code",
      "metadata": {
        "id": "Jj5LpMPsw_Tk"
      },
      "source": [
        "import re\n",
        "\n",
        "#remove URL\n",
        "def remove_url(text):\n",
        "  text = re.sub(r'(?i)\\b((?:https?://|www\\d{0,3}[.]|[a-z0-9.\\-]+[.][a-z]{2,4}/)(?:[^\\s()<>]+|\\(([^\\s()<>]+|(\\([^\\s()<>]+\\)))*\\))+(?:\\(([^\\s()<>]+|(\\([^\\s()<>]+\\)))*\\)|[^\\s`!()\\[\\]{};:\\'\".,<>?«»“”‘’]))', '', text)\n",
        "  return text\n",
        "\n",
        "#remove emoji\n",
        "def remove_emoji(text): \n",
        "  regex_pattern = re.compile(pattern = \"[\"\n",
        "        u\"\\U0001F600-\\U0001F64F\"  # emoticons\n",
        "        u\"\\U0001F300-\\U0001F5FF\"  # symbols & pictographs\n",
        "        u\"\\U0001F680-\\U0001F6FF\"  # transport & map symbols\n",
        "        u\"\\U0001F1E0-\\U0001F1FF\"  # flags (iOS)\n",
        "                           \"]+\", flags = re.UNICODE)\n",
        "  return regex_pattern.sub(r'.',text)\n",
        "\n",
        "def sentTokenize(text):\n",
        "  text = nltk.sent_tokenize(text)  \n",
        "  return text\n",
        "\n",
        "def wordTokenize(text):\n",
        "  text = nltk.word_tokenize(text)\n",
        "  return text\n"
      ],
      "execution_count": null,
      "outputs": []
    },
    {
      "cell_type": "code",
      "metadata": {
        "id": "r65Ra9awdLGD"
      },
      "source": [
        "cleaned_text = remove_url(articles)\n",
        "cleaned_text = remove_emoji(cleaned_text)\n",
        "with open (\"cleaned_text.txt\", \"a+\") as f:\n",
        "    f.write(cleaned_text)\n",
        "    f.close()"
      ],
      "execution_count": null,
      "outputs": []
    },
    {
      "cell_type": "code",
      "metadata": {
        "id": "Yc7srCmVKxn2"
      },
      "source": [
        "sent_text =  sentTokenize(cleaned_text)\n",
        "i = 0\n",
        "\n",
        "with open('cas.csv', mode='w', newline='') as csv_file:\n",
        "  csv_writer = csv.writer(csv_file)\n",
        "  csv_writer.writerow(['No', 'Words'])\n",
        "\n",
        "  for sentence in sent_text:\n",
        "    i = i + 1\n",
        "    tokenized_text = wordTokenize(sentence)\n",
        "    for x in tokenized_text:\n",
        "      results = [i, x]\n",
        "      csv_writer.writerow(results)\n",
        "\n",
        "    "
      ],
      "execution_count": null,
      "outputs": []
    }
  ]
}